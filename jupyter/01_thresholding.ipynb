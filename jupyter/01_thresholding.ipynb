{
 "cells": [
  {
   "cell_type": "markdown",
   "id": "prerequisite-personality",
   "metadata": {},
   "source": [
    "<style type=\"text/css\">\n",
    ".tg  {border-collapse:collapse;border-spacing:0;}\n",
    ".tg td{border-color:white;border-style:solid;border-width:1px;font-family:Arial, sans-serif;font-size:14px;\n",
    "  overflow:hidden;padding:10px 5px;word-break:normal;}\n",
    ".tg th{border-color:black;border-style:solid;border-width:1px;font-family:Arial, sans-serif;font-size:14px;\n",
    "  font-weight:normal;overflow:hidden;padding:10px 5px;word-break:normal;}\n",
    ".tg .tg-baqh{text-align:left;vertical-align:top}\n",
    "</style>\n",
    "\n",
    "# 01 Thresholding\n",
    "\n",
    "Before diving into any data analysis endeavor, we must first clean our scans. Raw X-ray CT reconstructions, as most real-life data, is quite messy and there are a number of issues to be addressed. \n",
    "\n",
    "- Remove the air and other debris\n",
    "- Separating individual fruits\n",
    "\n",
    "Needless to say, this image processing pipeline uses only basic mathematical morphology operations and the parameters are _ad-hoc_ for the data at hand.\n",
    "\n",
    "<table class=\"tg\">\n",
    "\n",
    "<tbody>\n",
    "  <tr>\n",
    "    <td class=\"tg-baqh\" style=\"text-align:left\">\n",
    "        <img src = \"https://www.egr.msu.edu/~amezqui3/citrus/crc_pics/crc_diversity.jpg\" alt = \"barley\" style=\"width:375px;\"/>\n",
    "        <p style=\"text-align:center;font-size:20px\"><strong>UCR Citrus Colleciton</strong></p>\n",
    "    </td>\n",
    "    <td class=\"tg-baqh\" style=\"text-align:left\">\n",
    "        <img src = \"https://www.egr.msu.edu/~amezqui3/citrus/crc_pics/citrus_xrayct_scanning.jpeg\" alt = \"Website icon\" style=\"width:375px;\"/>\n",
    "        <p style=\"text-align:center;font-size:20px\"><strong>X-ray CT scanning</strong></p>\n",
    "    </td>\n",
    "    <td class=\"tg-baqh\" style=\"text-align:left\">\n",
    "        <img src=\"https://www.egr.msu.edu/~amezqui3/citrus/figs/SR01_CRC3289_12B-19-9_L01_raw.gif\" alt=\"NSF Logo\" style=\"width:220px\">\n",
    "        <p style=\"text-align:center;font-size:20px\"><strong>Raw scans</strong></p>\n",
    "    </td>\n",
    "  </tr>\n",
    "</tbody>\n",
    "</table>"
   ]
  },
  {
   "cell_type": "code",
   "execution_count": 2,
   "id": "criminal-sight",
   "metadata": {},
   "outputs": [],
   "source": [
    "import tifffile as tf\n",
    "import numpy as np\n",
    "import os\n",
    "from matplotlib import pyplot as plt\n",
    "import math\n",
    "import importlib\n",
    "import unionfind as UF\n",
    "\n",
    "import scipy.ndimage as ndimage\n",
    "\n",
    "import pandas as pd"
   ]
  },
  {
   "cell_type": "markdown",
   "id": "greatest-innocent",
   "metadata": {},
   "source": [
    "### Load raw scan. \n",
    "\n",
    "- The scans are usually 2Gb in size and contain 3 individual fruits to be separated\n",
    "- `dst` path to store details on the bounding boxes of individual fruits\n",
    "    - More details of these boxes below"
   ]
  },
  {
   "cell_type": "code",
   "execution_count": 3,
   "id": "monthly-wesley",
   "metadata": {},
   "outputs": [],
   "source": [
    "dst = '../preproc/masks/'\n",
    "#filepath  = '../preproc/raw/SW01_CRC3030_12B-8-5_beam.tif'\n",
    "#filepath = '../preproc/raw/SW02_CRC3746_12B-17-7_beam.tif'\n",
    "#filepath = '../preproc/raw/SW03_CRC1241-B_12B-4-3_beam.tif'\n",
    "\n",
    "filepath = '../preproc/raw/WR09_CRC3469_12B-36-9_beam.tif'\n",
    "#filepath = '../preproc/raw/WR18_CRC2863_12A-39-9_beam.tif'"
   ]
  },
  {
   "cell_type": "code",
   "execution_count": 3,
   "id": "joint-premiere",
   "metadata": {},
   "outputs": [
    {
     "data": {
      "text/plain": [
       "'WR09_CRC3469_12B-36-9'"
      ]
     },
     "execution_count": 3,
     "metadata": {},
     "output_type": "execute_result"
    }
   ],
   "source": [
    "_ , fname = os.path.split(filepath)\n",
    "bname = os.path.splitext(fname)[0][:-5]\n",
    "bname"
   ]
  },
  {
   "cell_type": "code",
   "execution_count": 4,
   "id": "interior-launch",
   "metadata": {},
   "outputs": [],
   "source": [
    "img = tf.imread(filepath)"
   ]
  },
  {
   "cell_type": "markdown",
   "id": "proprietary-healing",
   "metadata": {},
   "source": [
    "### Find local maxima\n",
    "\n",
    "- In this case, we use 0-level persistence\n",
    "- See https://github.com/amezqui3/demeter/blob/main/jupyter/01_density_groundtruth.ipynb for more details"
   ]
  },
  {
   "cell_type": "code",
   "execution_count": 7,
   "id": "sexual-century",
   "metadata": {},
   "outputs": [],
   "source": [
    "def persistence_with_UF(img, showfig=True, writefig=False, bname='file.jpg', dst='./', dpi=100):\n",
    "    hist0,bins = np.histogram(img,bins=2**(img.dtype.itemsize*8),range=(0,2**(img.dtype.itemsize*8)))\n",
    "    pers = sorted(UF.persistence(hist0),reverse=True)\n",
    "    if showfig:\n",
    "        plt.figure(figsize=(15,5))\n",
    "        plt.plot(np.log(hist0+1), lw=3)\n",
    "        plt.title(bname, fontsize=20);\n",
    "        \n",
    "        if writefig:\n",
    "            filename = dst + bname + '.jpg'\n",
    "            plt.savefig(filename, dpi=dpi, format='jpg', pil_kwargs={'optimize':True}, bbox_inches='tight');\n",
    "            plt.close()\n",
    "    return pers"
   ]
  },
  {
   "cell_type": "code",
   "execution_count": 8,
   "id": "dutch-scratch",
   "metadata": {},
   "outputs": [
    {
     "data": {
      "image/png": "[encoded data removed]",
      "text/plain": [
       "<Figure size 1080x360 with 1 Axes>"
      ]
     },
     "metadata": {
      "needs_background": "light"
     },
     "output_type": "display_data"
    }
   ],
   "source": [
    "pers = persistence_with_UF(img, bname=bname)"
   ]
  },
  {
   "cell_type": "code",
   "execution_count": 9,
   "id": "adverse-resource",
   "metadata": {
    "scrolled": false
   },
   "outputs": [
    {
     "data": {
      "text/plain": [
       "[(inf, None, 76),\n",
       " (11779651, 132, 181),\n",
       " (1618, 134, 133),\n",
       " (5, 240, 242),\n",
       " (5, 35, 34),\n",
       " (5, 31, 30),\n",
       " (5, 20, 17),\n",
       " (4, 15, 14),\n",
       " (3, 24, 23),\n",
       " (2, 250, 254),\n",
       " (2, 26, 25),\n",
       " (2, 13, 12),\n",
       " (1, 252, 251),\n",
       " (1, 247, 248),\n",
       " (1, 244, 246),\n",
       " (1, 18, 19),\n",
       " (1, 11, 10),\n",
       " (1, 8, 7),\n",
       " (1, 1, 0)]"
      ]
     },
     "execution_count": 9,
     "metadata": {},
     "output_type": "execute_result"
    }
   ],
   "source": [
    "pers"
   ]
  },
  {
   "cell_type": "markdown",
   "id": "rocky-search",
   "metadata": {},
   "source": [
    "### Threshold at the midpoint between the two most prominent local maxima\n",
    "\n",
    "- Once thresholded, remove all the planes that are purely zeros\n",
    "- This should reduce the image size noticeably and make further manipulation easier\n",
    "- After this step, we have a _zero-cleaned_ image\n",
    "- We keep track in `cero` of how many zero-planes were removed from the original image in each direction"
   ]
  },
  {
   "cell_type": "code",
   "execution_count": 11,
   "id": "civic-friendly",
   "metadata": {},
   "outputs": [],
   "source": [
    "thr = math.ceil((pers[0][-1] + pers[1][-1])*.5)\n",
    "img[img < thr] = 0"
   ]
  },
  {
   "cell_type": "code",
   "execution_count": 12,
   "id": "cooked-granny",
   "metadata": {},
   "outputs": [],
   "source": [
    "def clean_zeroes(img):\n",
    "    dim = img.ndim\n",
    "    orig_size = img.size\n",
    "\n",
    "    cero = list(range(2*dim))\n",
    "\n",
    "    for k in range(dim):\n",
    "        ceros = np.all(img == 0, axis = (k, (k+1)%dim))\n",
    "\n",
    "        for i in range(len(ceros)):\n",
    "            if(~ceros[i]):\n",
    "                break\n",
    "        for j in range(len(ceros)-1, 0, -1):\n",
    "            if(~ceros[j]):\n",
    "                break\n",
    "        cero[k] = i\n",
    "        cero[k+dim] = j+1\n",
    "\n",
    "    img = img[cero[1]:cero[4], cero[2]:cero[5], cero[0]:cero[3]]\n",
    "\n",
    "    print(round(100-100*img.size/orig_size),'% reduction from input')\n",
    "\n",
    "    return img, cero"
   ]
  },
  {
   "cell_type": "code",
   "execution_count": 13,
   "id": "virgin-anthropology",
   "metadata": {},
   "outputs": [
    {
     "name": "stdout",
     "output_type": "stream",
     "text": [
      "30 % reduction from input\n"
     ]
    },
    {
     "data": {
      "text/plain": [
       "[58, 112, 53, 1700, 940, 1565]"
      ]
     },
     "execution_count": 13,
     "metadata": {},
     "output_type": "execute_result"
    }
   ],
   "source": [
    "img, cero = clean_zeroes(img)\n",
    "cero"
   ]
  },
  {
   "cell_type": "markdown",
   "id": "improving-series",
   "metadata": {},
   "source": [
    "### Get the coordinates of separate connected components\n",
    "\n",
    "- Each connected component should correspond to an individual fruit\n",
    "- We get the _coordinates_ of the connected component, **not** the connected component itself. That will be done later.\n",
    "- More specifically, we get a bounding box that should contain the whole individual fruit.\n",
    "\n",
    "- The coordinates are stored in an $(n+1)\\times7$ vector\n",
    "```\n",
    "boxes[i] = (z0, y0, x0, z1, y1, x1, thr)\n",
    "```\n",
    "- `x0, y0, z0` correspond to the $(x,y,z)$ coordinates _thresholded and zero-cleaned image_ of the lower, left corner of the bounding box\n",
    "- `x1, y1, z1` correspond to the upper, right, opposite corner of the box\n",
    "- `thr` is the threshold applied to the raw image\n",
    "- `n` is the number of individual connected componets.\n",
    "    - Each component must have at least 1% of the total nonzero voxels, else it is considered debris.\n",
    "- The last row contains the number of zero-valued planes removed across each of the 6 directions"
   ]
  },
  {
   "cell_type": "code",
   "execution_count": 15,
   "id": "wicked-acoustic",
   "metadata": {},
   "outputs": [],
   "source": [
    "def get_comp_boxes(img, cero, thr, cutoff = 1e-2):\n",
    "    labels,num = ndimage.label(img, structure=ndimage.generate_binary_structure(img.ndim, 1))\n",
    "    print(num,'components')\n",
    "    hist,bins = np.histogram(labels, bins=num, range=(1,num+1))\n",
    "    regions = ndimage.find_objects(labels)\n",
    "    sz_hist = np.sum(hist)\n",
    "    argsort_hist = np.argsort(hist)[::-1]\n",
    "    boxes = np.zeros((np.sum(hist/sz_hist > cutoff)+1, 7), dtype=int)\n",
    "    print(boxes.shape)\n",
    "    idx = 0\n",
    "    for j in range(len(regions)):\n",
    "        i = argsort_hist[j]\n",
    "        r = regions[i]\n",
    "        if(hist[i]/sz_hist > 1e-2):\n",
    "            boxes[idx, :6] = r[0].start, r[1].start, r[2].start, r[0].stop, r[1].stop, r[2].stop\n",
    "            idx += 1\n",
    "        boxes[-1, :6] = cero[1], cero[2], cero[0], cero[4], cero[5], cero[3]\n",
    "    boxes[:,-1] = thr\n",
    "    \n",
    "    return boxes"
   ]
  },
  {
   "cell_type": "code",
   "execution_count": 16,
   "id": "functioning-repair",
   "metadata": {},
   "outputs": [
    {
     "name": "stdout",
     "output_type": "stream",
     "text": [
      "21903 components\n",
      "(4, 7)\n"
     ]
    }
   ],
   "source": [
    "boxes = get_comp_boxes(img, cero, thr)\n",
    "boxes"
   ]
  },
  {
   "cell_type": "markdown",
   "id": "choice-martin",
   "metadata": {},
   "source": [
    "### Store the `boxes` matrix"
   ]
  },
  {
   "cell_type": "code",
   "execution_count": 18,
   "id": "charming-standing",
   "metadata": {},
   "outputs": [],
   "source": [
    "dfboxes = pd.DataFrame(boxes, columns=['z0','y0','x0','z1','y1','x1','thr'])\n",
    "filename = dst + bname + '.csv'\n",
    "dfboxes.to_csv(filename, index=False)"
   ]
  }
 ],
 "metadata": {
  "kernelspec": {
   "display_name": "Python 3",
   "language": "python",
   "name": "python3"
  },
  "language_info": {
   "codemirror_mode": {
    "name": "ipython",
    "version": 3
   },
   "file_extension": ".py",
   "mimetype": "text/x-python",
   "name": "python",
   "nbconvert_exporter": "python",
   "pygments_lexer": "ipython3",
   "version": "3.6.9"
  }
 },
 "nbformat": 4,
 "nbformat_minor": 5
}
