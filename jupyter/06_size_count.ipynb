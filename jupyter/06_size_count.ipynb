{
 "cells": [
  {
   "cell_type": "markdown",
   "id": "disturbed-sheriff",
   "metadata": {},
   "source": [
    "# 06 Compute the volume of each tissue\n",
    "\n",
    "The volume is just the number of voxels with density larger than 10 corresponding to each tissue\n",
    "- Whole fruit\n",
    "- Exocarp\n",
    "- Mesocarp\n",
    "- Rind\n",
    "- Endocarp\n",
    "- Central column or spine\n",
    "- Oil gland tissue\n",
    "\n",
    "We will convert voxel size into standard volume units later with additional scanning metadata.\n",
    "\n",
    "Additionally, there is the unitless number of individual oil glands\n",
    "\n",
    "For each fruit, we create a 10-dim vector\n",
    "```\n",
    "WR05_CRC3605_18B-19-5 , L03 , 30638950 , 8584712 , 18614789 , 5900155 , 373572 , 5502226 , 290577 , 5018\n",
    "```\n",
    "corresponding to \n",
    "```\n",
    "1.  root name\n",
    "2.  label name\n",
    "3.  whole size\n",
    "4.  exocarp size\n",
    "5.  endocarp size\n",
    "6.  rind size\n",
    "7.  spine size\n",
    "8.  mesocarp size\n",
    "9.  oil gland tissue size\n",
    "10. number of individual oil glands\n",
    "```\n",
    "\n",
    "All the results will be stored in `data/allometry/data` path following our established naming conventions.\n",
    "- The idea is to generate an individual file per fruit in a single folder\n",
    "- All data can easily be compiled later by doing on the terminal\n",
    "```\n",
    "cat *.csv > ../citrus_sizes.csv\n",
    "```\n",
    "\n",
    "The file `data/allometry/citrus_sizes.csv` is available with the voxel-size information of 161 different fruit samples comprising 50 citrus varieties."
   ]
  },
  {
   "cell_type": "code",
   "execution_count": 1,
   "id": "proof-halifax",
   "metadata": {},
   "outputs": [],
   "source": [
    "import os\n",
    "import sys\n",
    "import glob\n",
    "\n",
    "import scipy.ndimage as ndimage\n",
    "import scipy.spatial as spatial\n",
    "import numpy as np\n",
    "import pandas as pd\n",
    "\n",
    "import warnings\n",
    "warnings.filterwarnings( \"ignore\")\n",
    "import matplotlib.pyplot as plt\n",
    "%matplotlib inline\n",
    "from importlib import reload\n",
    "\n",
    "import tifffile as tf\n",
    "import citrus_utils as vitaminC"
   ]
  },
  {
   "cell_type": "markdown",
   "id": "closed-label",
   "metadata": {},
   "source": [
    "### Load the data of one fruit"
   ]
  },
  {
   "cell_type": "code",
   "execution_count": 2,
   "id": "regional-developer",
   "metadata": {},
   "outputs": [],
   "source": [
    "comps_src = '../data/comps/'\n",
    "tissue_src = '../data/tissue/'\n",
    "oil_src = '../data/oil/'\n",
    "bname = 'WR05_CRC3605_18B-19-5'"
   ]
  },
  {
   "cell_type": "code",
   "execution_count": 8,
   "id": "based-sierra",
   "metadata": {},
   "outputs": [
    {
     "name": "stdout",
     "output_type": "stream",
     "text": [
      "['../data/comps/WR05_CRC3605_18B-19-5_L03.tif']\n",
      "\n",
      " L03\n",
      "../data/tissue/WR05_CRC3605_18B-19-5/L03/WR05_CRC3605_18B-19-5_L03_\n"
     ]
    }
   ],
   "source": [
    "src = comps_src + bname\n",
    "comp_files = sorted(glob.glob(src + '*.tif'))\n",
    "print(comp_files)\n",
    "\n",
    "i = 0 \n",
    "fname = os.path.split(comp_files[i])[1]\n",
    "lname = os.path.splitext(fname)[0].split('_')[-1]\n",
    "print('\\n',lname)\n",
    "#for lname in os.listdir(src):\n",
    "\n",
    "tissue_filename = tissue_src + bname + '/' + lname + '/' + bname + '_' + lname + '_'\n",
    "print(tissue_filename)"
   ]
  },
  {
   "cell_type": "code",
   "execution_count": 9,
   "id": "functional-inquiry",
   "metadata": {},
   "outputs": [],
   "source": [
    "tissue_size = []\n",
    "tissue_size.append(bname)\n",
    "tissue_size.append(lname)\n",
    "tissue = tf.imread(comp_files[i])\n",
    "tissue_size.append(np.sum(tissue > 10))"
   ]
  },
  {
   "cell_type": "code",
   "execution_count": 10,
   "id": "entire-irish",
   "metadata": {},
   "outputs": [],
   "source": [
    "tissue_types = ['exocarp', 'endocarp', 'rind']\n",
    "\n",
    "for tss in tissue_types:\n",
    "    tissue = tf.imread(tissue_filename + tss + '.tif')\n",
    "    tissue_size.append(np.sum(tissue > 10))"
   ]
  },
  {
   "cell_type": "code",
   "execution_count": 11,
   "id": "catholic-sense",
   "metadata": {},
   "outputs": [
    {
     "data": {
      "text/plain": [
       "['WR05_CRC3605_18B-19-5', 'L03', 30638950, 8584712, 18614789, 5900155]"
      ]
     },
     "execution_count": 11,
     "metadata": {},
     "output_type": "execute_result"
    }
   ],
   "source": [
    "tissue_size"
   ]
  },
  {
   "cell_type": "code",
   "execution_count": 12,
   "id": "indirect-brake",
   "metadata": {},
   "outputs": [],
   "source": [
    "spine = tf.imread(tissue_filename + 'spine.tif')\n",
    "tissue_size.append(np.sum(spine > 10))"
   ]
  },
  {
   "cell_type": "code",
   "execution_count": 13,
   "id": "prime-burden",
   "metadata": {},
   "outputs": [
    {
     "name": "stdout",
     "output_type": "stream",
     "text": [
      "393 components\n",
      "[5502226    4214    2209    1993    1748    1388    1097    1001     945\n",
      "     819     678     668     519     429     307     289     229     226\n",
      "     225     221]\n"
     ]
    }
   ],
   "source": [
    "spine[spine > 0] = 1\n",
    "meso = tissue*(1 - spine)\n",
    "tendo = vitaminC.get_largest_element(meso)\n",
    "meso *= tendo"
   ]
  },
  {
   "cell_type": "code",
   "execution_count": 14,
   "id": "occasional-import",
   "metadata": {},
   "outputs": [],
   "source": [
    "tissue_size.append(np.sum(meso > 10))"
   ]
  },
  {
   "cell_type": "code",
   "execution_count": 15,
   "id": "sought-spectacular",
   "metadata": {},
   "outputs": [],
   "source": [
    "citrus_oil = oil_src + bname + '/' + lname + '/' + bname + '_'\n",
    "tissue = tf.imread(citrus_oil + 'glands.tif')\n",
    "tissue_size.append(np.sum(tissue > 10))"
   ]
  },
  {
   "cell_type": "markdown",
   "id": "natural-sound",
   "metadata": {},
   "source": [
    "The number of individual oil glands is just the number of lines in the `(x,y,z)`-coordinate file"
   ]
  },
  {
   "cell_type": "code",
   "execution_count": 16,
   "id": "intensive-present",
   "metadata": {},
   "outputs": [],
   "source": [
    "tissue_size.append(vitaminC.buf_count_newlines_gen(citrus_oil + 'glandscenter.csv'))"
   ]
  },
  {
   "cell_type": "markdown",
   "id": "intense-jenny",
   "metadata": {},
   "source": [
    "Save the 10-dimensional vector as a csv"
   ]
  },
  {
   "cell_type": "code",
   "execution_count": 18,
   "id": "immediate-world",
   "metadata": {},
   "outputs": [],
   "source": [
    "dst = '../data/allometry/data/'\n",
    "if not os.path.isdir(dst):\n",
    "    os.makedirs(dst)\n",
    "\n",
    "df = pd.DataFrame(tissue_size).T\n",
    "filename = dst + bname + '_' + lname + '.csv'\n",
    "df.to_csv(filename, index = False, header=False)"
   ]
  },
  {
   "cell_type": "code",
   "execution_count": 19,
   "id": "statewide-silly",
   "metadata": {},
   "outputs": [
    {
     "data": {
      "text/html": [
       "<div>\n",
       "<style scoped>\n",
       "    .dataframe tbody tr th:only-of-type {\n",
       "        vertical-align: middle;\n",
       "    }\n",
       "\n",
       "    .dataframe tbody tr th {\n",
       "        vertical-align: top;\n",
       "    }\n",
       "\n",
       "    .dataframe thead th {\n",
       "        text-align: right;\n",
       "    }\n",
       "</style>\n",
       "<table border=\"1\" class=\"dataframe\">\n",
       "  <thead>\n",
       "    <tr style=\"text-align: right;\">\n",
       "      <th></th>\n",
       "      <th>0</th>\n",
       "      <th>1</th>\n",
       "      <th>2</th>\n",
       "      <th>3</th>\n",
       "      <th>4</th>\n",
       "      <th>5</th>\n",
       "      <th>6</th>\n",
       "      <th>7</th>\n",
       "      <th>8</th>\n",
       "      <th>9</th>\n",
       "    </tr>\n",
       "  </thead>\n",
       "  <tbody>\n",
       "    <tr>\n",
       "      <th>0</th>\n",
       "      <td>WR05_CRC3605_18B-19-5</td>\n",
       "      <td>L03</td>\n",
       "      <td>30638950</td>\n",
       "      <td>8584712</td>\n",
       "      <td>18614789</td>\n",
       "      <td>5900155</td>\n",
       "      <td>373572</td>\n",
       "      <td>5502226</td>\n",
       "      <td>290577</td>\n",
       "      <td>5018</td>\n",
       "    </tr>\n",
       "  </tbody>\n",
       "</table>\n",
       "</div>"
      ],
      "text/plain": [
       "                       0    1         2        3         4        5       6  \\\n",
       "0  WR05_CRC3605_18B-19-5  L03  30638950  8584712  18614789  5900155  373572   \n",
       "\n",
       "         7       8     9  \n",
       "0  5502226  290577  5018  "
      ]
     },
     "execution_count": 19,
     "metadata": {},
     "output_type": "execute_result"
    }
   ],
   "source": [
    "df"
   ]
  }
 ],
 "metadata": {
  "kernelspec": {
   "display_name": "Python 3",
   "language": "python",
   "name": "python3"
  },
  "language_info": {
   "codemirror_mode": {
    "name": "ipython",
    "version": 3
   },
   "file_extension": ".py",
   "mimetype": "text/x-python",
   "name": "python",
   "nbconvert_exporter": "python",
   "pygments_lexer": "ipython3",
   "version": "3.6.9"
  }
 },
 "nbformat": 4,
 "nbformat_minor": 5
}
