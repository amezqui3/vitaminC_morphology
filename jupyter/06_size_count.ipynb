{
 "cells": [
  {
   "cell_type": "code",
   "execution_count": 1,
   "id": "proof-halifax",
   "metadata": {},
   "outputs": [],
   "source": [
    "import os\n",
    "import sys\n",
    "import glob\n",
    "\n",
    "import scipy.ndimage as ndimage\n",
    "import scipy.spatial as spatial\n",
    "import numpy as np\n",
    "import pandas as pd\n",
    "\n",
    "import warnings\n",
    "warnings.filterwarnings( \"ignore\")\n",
    "import matplotlib.pyplot as plt\n",
    "%matplotlib inline\n",
    "from importlib import reload\n",
    "\n",
    "import tifffile as tf\n",
    "import citrus_utils as vitaminC"
   ]
  },
  {
   "cell_type": "code",
   "execution_count": 2,
   "id": "continuing-windsor",
   "metadata": {},
   "outputs": [
    {
     "data": {
      "text/plain": [
       "<module 'citrus_utils' from '/home/ejam/documents/citrus/citrus/citrus_utils.py'>"
      ]
     },
     "execution_count": 2,
     "metadata": {},
     "output_type": "execute_result"
    }
   ],
   "source": [
    "reload(vitaminC)"
   ]
  },
  {
   "cell_type": "code",
   "execution_count": 3,
   "id": "regional-developer",
   "metadata": {},
   "outputs": [],
   "source": [
    "comps_src = '../preproc/comps/'\n",
    "tissue_src = '../preproc/tissue/'\n",
    "oil_src = '../preproc/oil/'\n",
    "bname = 'SW03_CRC1241-B_12B-4-3'"
   ]
  },
  {
   "cell_type": "code",
   "execution_count": 4,
   "id": "based-sierra",
   "metadata": {},
   "outputs": [
    {
     "name": "stdout",
     "output_type": "stream",
     "text": [
      "['../preproc/comps/SW03_CRC1241-B_12B-4-3/SW03_CRC1241-B_12B-4-3_L00.tif', '../preproc/comps/SW03_CRC1241-B_12B-4-3/SW03_CRC1241-B_12B-4-3_L01.tif', '../preproc/comps/SW03_CRC1241-B_12B-4-3/SW03_CRC1241-B_12B-4-3_L02.tif']\n",
      "\n",
      " L00\n",
      "../preproc/tissue/SW03_CRC1241-B_12B-4-3L00/SW03_CRC1241-B_12B-4-3_L00_\n"
     ]
    }
   ],
   "source": [
    "src = comps_src + bname\n",
    "comp_files = sorted(glob.glob(src + '/*.tif'))\n",
    "print(comp_files)\n",
    "\n",
    "i = 0 \n",
    "fname = os.path.split(comp_files[i])[1]\n",
    "lname = os.path.splitext(fname)[0].split('_')[-1]\n",
    "print('\\n',lname)\n",
    "#for lname in os.listdir(src):\n",
    "\n",
    "tissue_filename = tissue_src + bname + lname + '/' + bname + '_' + lname + '_'\n",
    "print(tissue_filename)"
   ]
  },
  {
   "cell_type": "code",
   "execution_count": 5,
   "id": "functional-inquiry",
   "metadata": {},
   "outputs": [],
   "source": [
    "tissue_size = []\n",
    "tissue_size.append(bname)\n",
    "tissue_size.append(lname)\n",
    "tissue = tf.imread(comps_src + bname + '/' + bname + '_' + lname + '.tif')\n",
    "tissue_size.append(np.sum(tissue > 10))"
   ]
  },
  {
   "cell_type": "code",
   "execution_count": 6,
   "id": "entire-irish",
   "metadata": {},
   "outputs": [],
   "source": [
    "tissue_types = ['exocarp', 'endocarp', 'rind']\n",
    "\n",
    "for tss in tissue_types:\n",
    "    tissue = tf.imread(tissue_filename + tss + '.tif')\n",
    "    tissue_size.append(np.sum(tissue > 10))"
   ]
  },
  {
   "cell_type": "code",
   "execution_count": 7,
   "id": "catholic-sense",
   "metadata": {},
   "outputs": [
    {
     "data": {
      "text/plain": [
       "['M04_CRC3752_12B-28-7', 'L00', 142152844, 22243784, 99170635, 30940687]"
      ]
     },
     "execution_count": 7,
     "metadata": {},
     "output_type": "execute_result"
    }
   ],
   "source": [
    "tissue_size"
   ]
  },
  {
   "cell_type": "code",
   "execution_count": 8,
   "id": "indirect-brake",
   "metadata": {},
   "outputs": [],
   "source": [
    "spine = tf.imread(tissue_filename + 'spine.tif')\n",
    "tissue_size.append(np.sum(spine > 10))"
   ]
  },
  {
   "cell_type": "code",
   "execution_count": 9,
   "id": "prime-burden",
   "metadata": {},
   "outputs": [
    {
     "name": "stdout",
     "output_type": "stream",
     "text": [
      "5400 components\n",
      "[24566811     2622     2573     2381     2122     2106     1845     1647\n",
      "     1526     1511     1489     1465     1372     1177     1168     1158\n",
      "     1053      919      840      808]\n"
     ]
    }
   ],
   "source": [
    "spine[spine > 0] = 1\n",
    "meso = tissue*(1 - spine)\n",
    "tendo = vitaminC.get_largest_element(meso)\n",
    "meso *= tendo"
   ]
  },
  {
   "cell_type": "code",
   "execution_count": 10,
   "id": "occasional-import",
   "metadata": {},
   "outputs": [],
   "source": [
    "tissue_size.append(np.sum(meso > 10))"
   ]
  },
  {
   "cell_type": "code",
   "execution_count": 11,
   "id": "sought-spectacular",
   "metadata": {},
   "outputs": [],
   "source": [
    "citrus_oil = oil_src + bname + '/' + lname + '/' + bname + '_'\n",
    "tissue = tf.imread(citrus_oil + 'glands.tif')\n",
    "tissue_size.append(np.sum(tissue > 10))"
   ]
  },
  {
   "cell_type": "code",
   "execution_count": 12,
   "id": "intensive-present",
   "metadata": {},
   "outputs": [],
   "source": [
    "tissue_size.append(vitaminC.buf_count_newlines_gen(citrus_oil + 'glandscenter.csv'))"
   ]
  },
  {
   "cell_type": "code",
   "execution_count": 13,
   "id": "immediate-world",
   "metadata": {},
   "outputs": [],
   "source": [
    "dst = '../preproc/allometry/data/'\n",
    "df = pd.DataFrame(tissue_size).T\n",
    "\n",
    "filename = dst + bname + '_' + lname + '.csv'\n",
    "df.to_csv(filename, index = False, header=False)"
   ]
  }
 ],
 "metadata": {
  "kernelspec": {
   "display_name": "Python 3",
   "language": "python",
   "name": "python3"
  },
  "language_info": {
   "codemirror_mode": {
    "name": "ipython",
    "version": 3
   },
   "file_extension": ".py",
   "mimetype": "text/x-python",
   "name": "python",
   "nbconvert_exporter": "python",
   "pygments_lexer": "ipython3",
   "version": "3.6.9"
  }
 },
 "nbformat": 4,
 "nbformat_minor": 5
}
